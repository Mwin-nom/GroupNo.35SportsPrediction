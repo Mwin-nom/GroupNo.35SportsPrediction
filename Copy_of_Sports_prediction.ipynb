{
  "nbformat": 4,
  "nbformat_minor": 0,
  "metadata": {
    "colab": {
      "provenance": []
    },
    "kernelspec": {
      "name": "python3",
      "display_name": "Python 3"
    },
    "language_info": {
      "name": "python"
    }
  },
  "cells": [
    {
      "cell_type": "code",
      "execution_count": null,
      "metadata": {
        "id": "JrneqMC_wW-Z",
        "colab": {
          "base_uri": "https://localhost:8080/"
        },
        "outputId": "b88547a2-19ca-4e10-a906-d6c5df227ccd"
      },
      "outputs": [
        {
          "output_type": "stream",
          "name": "stdout",
          "text": [
            "Mounted at /content/drive\n"
          ]
        }
      ],
      "source": [
        "import pandas as pd\n",
        "import os\n",
        "import sklearn\n",
        "import numpy as np\n",
        "import pandas as pd\n",
        "import numpy as np, pandas as pd\n",
        "import matplotlib.pyplot as plt\n",
        "from sklearn import tree, metrics\n",
        "from sklearn.model_selection import train_test_split\n",
        "from google.colab import drive\n",
        "from sklearn.preprocessing import LabelEncoder\n",
        "\n",
        "\n",
        "drive.mount('/content/drive')\n",
        "\n",
        "\n"
      ]
    },
    {
      "cell_type": "markdown",
      "source": [
        "## **Question 1**"
      ],
      "metadata": {
        "id": "kwF7bV8CdX-2"
      }
    },
    {
      "cell_type": "markdown",
      "source": [
        "## **Demonstrating the data preparation & feature extraction process**"
      ],
      "metadata": {
        "id": "nZgU1NL1TGa5"
      }
    },
    {
      "cell_type": "code",
      "source": [
        "df=pd.read_csv('/content/drive/My Drive/Colab Notebooks/players_21.csv')"
      ],
      "metadata": {
        "id": "DQ8nrFKJS9Qu"
      },
      "execution_count": null,
      "outputs": []
    },
    {
      "cell_type": "code",
      "source": [
        "df2=pd.read_csv('/content/drive/My Drive/Colab Notebooks/players_22.csv')"
      ],
      "metadata": {
        "id": "Rq6bZ4k4PWOa",
        "colab": {
          "base_uri": "https://localhost:8080/"
        },
        "outputId": "7aef2bab-0a75-4722-b753-87258ffad927"
      },
      "execution_count": null,
      "outputs": [
        {
          "output_type": "stream",
          "name": "stderr",
          "text": [
            "<ipython-input-43-23c7cb22266c>:1: DtypeWarning: Columns (25,108) have mixed types. Specify dtype option on import or set low_memory=False.\n",
            "  df2=pd.read_csv('/content/drive/My Drive/Colab Notebooks/players_22.csv')\n"
          ]
        }
      ]
    },
    {
      "cell_type": "code",
      "source": [
        "df.head()"
      ],
      "metadata": {
        "id": "sQwGuHlbS9HQ"
      },
      "execution_count": null,
      "outputs": []
    },
    {
      "cell_type": "code",
      "source": [
        "df.info()"
      ],
      "metadata": {
        "id": "2QvKtNJUT2uK"
      },
      "execution_count": null,
      "outputs": []
    },
    {
      "cell_type": "code",
      "source": [
        "df.describe()"
      ],
      "metadata": {
        "id": "q_XMvHsd28EO"
      },
      "execution_count": null,
      "outputs": []
    },
    {
      "cell_type": "code",
      "source": [
        "df.columns.tolist()"
      ],
      "metadata": {
        "id": "T9urYLRWmjRC"
      },
      "execution_count": null,
      "outputs": []
    },
    {
      "cell_type": "markdown",
      "source": [
        "## **Removing useless varaiables**"
      ],
      "metadata": {
        "id": "58LjZH8osXxh"
      }
    },
    {
      "cell_type": "code",
      "source": [
        "df.drop(columns=['player_url','player_face_url','club_logo_url','club_flag_url','nation_flag_url'], inplace = True)"
      ],
      "metadata": {
        "id": "hGYia3I8rqKK"
      },
      "execution_count": null,
      "outputs": []
    },
    {
      "cell_type": "code",
      "source": [
        "threshold = 0.3 * len(df)  # 30% threshold\n",
        "df_no_useless_variables = df.dropna(axis=1, thresh=threshold)# dropping columns with more than 30% of their values missing"
      ],
      "metadata": {
        "id": "fwYQ5j7TYLKp"
      },
      "execution_count": null,
      "outputs": []
    },
    {
      "cell_type": "code",
      "source": [
        "df_no_useless_variables.columns.tolist()"
      ],
      "metadata": {
        "id": "MAK-Br19wPBn"
      },
      "execution_count": null,
      "outputs": []
    },
    {
      "cell_type": "code",
      "source": [
        "df_no_useless_variables.shape"
      ],
      "metadata": {
        "id": "zPdGT_sJssuF",
        "colab": {
          "base_uri": "https://localhost:8080/"
        },
        "outputId": "64a3d5ce-f636-4da3-c4e6-1a2ec2bfa9c8"
      },
      "execution_count": null,
      "outputs": [
        {
          "output_type": "execute_result",
          "data": {
            "text/plain": [
              "(18944, 98)"
            ]
          },
          "metadata": {},
          "execution_count": 11
        }
      ]
    },
    {
      "cell_type": "code",
      "source": [
        "df = df_no_useless_variables"
      ],
      "metadata": {
        "id": "eJaeODYJyYHP"
      },
      "execution_count": null,
      "outputs": []
    },
    {
      "cell_type": "markdown",
      "source": [
        "## **Imputation for numerical variables using KNN Imputer**"
      ],
      "metadata": {
        "id": "c-vqT_ijcU0_"
      }
    },
    {
      "cell_type": "code",
      "source": [
        "df.dtypes.tolist() # trying to see the different datatypes in the dataframe"
      ],
      "metadata": {
        "id": "MNFARvuayw-a"
      },
      "execution_count": null,
      "outputs": []
    },
    {
      "cell_type": "code",
      "source": [
        "from pandas.core.arrays import categorical\n",
        "numericVariables = df.select_dtypes(include=['int64','float64'])\n",
        "categoricalVariables = df.select_dtypes(include=['object']) # separating the dataframe into numeric and categorical variables"
      ],
      "metadata": {
        "id": "K_LXjo5Ezw75"
      },
      "execution_count": null,
      "outputs": []
    },
    {
      "cell_type": "code",
      "source": [
        "from sklearn.impute import KNNImputer\n"
      ],
      "metadata": {
        "id": "e33jhp3eZ4LP"
      },
      "execution_count": null,
      "outputs": []
    },
    {
      "cell_type": "code",
      "source": [
        "knn_imputer = KNNImputer(n_neighbors=5)\n",
        "numericVariables_imputed = knn_imputer.fit_transform(numericVariables)"
      ],
      "metadata": {
        "id": "dFWmRniQZ4Is"
      },
      "execution_count": null,
      "outputs": []
    },
    {
      "cell_type": "code",
      "source": [
        "numericVariables_imputed_df = pd.DataFrame(numericVariables_imputed,columns=numericVariables.columns)"
      ],
      "metadata": {
        "id": "qmF9SLPgqbt-"
      },
      "execution_count": null,
      "outputs": []
    },
    {
      "cell_type": "code",
      "source": [
        "numericVariables_imputed_df"
      ],
      "metadata": {
        "id": "rAJa2PNFvnIu"
      },
      "execution_count": null,
      "outputs": []
    },
    {
      "cell_type": "code",
      "source": [
        "numericVariables_imputed_df.isnull().sum().tolist() # checking to see if there are any null calues still"
      ],
      "metadata": {
        "id": "TM8qoZyBZ4Gg"
      },
      "execution_count": null,
      "outputs": []
    },
    {
      "cell_type": "markdown",
      "source": [
        "# **Imputation for categorical variables using Forward Filling**"
      ],
      "metadata": {
        "id": "raTeiGM06_vq"
      }
    },
    {
      "cell_type": "code",
      "source": [
        "categoricalVariables_imputed = categoricalVariables.ffill()"
      ],
      "metadata": {
        "id": "xq5LtTGarTPo"
      },
      "execution_count": null,
      "outputs": []
    },
    {
      "cell_type": "code",
      "source": [
        "categoricalVariables_imputed_df = pd.DataFrame(categoricalVariables_imputed, columns =categoricalVariables.columns)"
      ],
      "metadata": {
        "id": "8JksAUPJrTJl"
      },
      "execution_count": null,
      "outputs": []
    },
    {
      "cell_type": "code",
      "source": [
        "categoricalVariables_imputed_df"
      ],
      "metadata": {
        "id": "BBfUMuFArTGa"
      },
      "execution_count": null,
      "outputs": []
    },
    {
      "cell_type": "code",
      "source": [
        "categoricalVariables_imputed_df.isnull().sum().tolist() # checking to see if there are any null calues still"
      ],
      "metadata": {
        "id": "k_3jaLfWrTAr"
      },
      "execution_count": null,
      "outputs": []
    },
    {
      "cell_type": "markdown",
      "source": [
        "## **Encoding the categorical variables using Onehot encoding**"
      ],
      "metadata": {
        "id": "LX_OO5U40mKU"
      }
    },
    {
      "cell_type": "code",
      "source": [
        "#label_encoder = LabelEncoder()"
      ],
      "metadata": {
        "id": "2rMgBwA5BhMy"
      },
      "execution_count": null,
      "outputs": []
    },
    {
      "cell_type": "code",
      "source": [
        "#categoricalVariables_df_encoded = categoricalVariables_imputed_df.apply(label_encoder.fit_transform)"
      ],
      "metadata": {
        "id": "pCfL91B227hS"
      },
      "execution_count": null,
      "outputs": []
    },
    {
      "cell_type": "code",
      "source": [
        "categoricalVariables_df_encoded = pd.get_dummies(categoricalVariables_imputed_df, prefix='categorical')"
      ],
      "metadata": {
        "id": "HIkR_8r-5E0q"
      },
      "execution_count": null,
      "outputs": []
    },
    {
      "cell_type": "code",
      "source": [
        "categoricalVariables_df_encoded"
      ],
      "metadata": {
        "id": "koj6Q_x34eTR"
      },
      "execution_count": null,
      "outputs": []
    },
    {
      "cell_type": "markdown",
      "source": [
        "## **Creating a dataframe that contains both the numeric and categorical variables**"
      ],
      "metadata": {
        "id": "cccimC5iPnFl"
      }
    },
    {
      "cell_type": "code",
      "source": [
        "new_df = pd.concat([numericVariables_imputed_df, categoricalVariables_df_encoded], axis=1)"
      ],
      "metadata": {
        "id": "Qsc6dlF6rS7C"
      },
      "execution_count": null,
      "outputs": []
    },
    {
      "cell_type": "code",
      "source": [
        "new_df"
      ],
      "metadata": {
        "id": "l6zbE6pYCjI4"
      },
      "execution_count": null,
      "outputs": []
    },
    {
      "cell_type": "markdown",
      "source": [
        "## **Separating the independent and dependent variables**"
      ],
      "metadata": {
        "id": "SZ5T8MnWP1F_"
      }
    },
    {
      "cell_type": "code",
      "source": [
        "y = new_df['overall']\n",
        "X = new_df.drop('overall', axis = 1)"
      ],
      "metadata": {
        "id": "IZKWT4GwEE3-"
      },
      "execution_count": null,
      "outputs": []
    },
    {
      "cell_type": "markdown",
      "source": [
        "## **Question 2**"
      ],
      "metadata": {
        "id": "FfMYFITCdKj-"
      }
    },
    {
      "cell_type": "markdown",
      "source": [
        "# **Creating feature subsets which show better correlation with the overall rating and scaled the independent variables.**"
      ],
      "metadata": {
        "id": "tFt0MI6yLAv9"
      }
    },
    {
      "cell_type": "markdown",
      "source": [
        "**Created feature subsets which show better correlation with the overall rating**"
      ],
      "metadata": {
        "id": "2c5RV1I9LGle"
      }
    },
    {
      "cell_type": "code",
      "source": [
        "X_df =  pd.DataFrame(X)"
      ],
      "metadata": {
        "id": "SoPEj0IkEfti"
      },
      "execution_count": null,
      "outputs": []
    },
    {
      "cell_type": "code",
      "source": [
        "correlations = X_df.corrwith(y)"
      ],
      "metadata": {
        "id": "rOU6BknRCjlk"
      },
      "execution_count": null,
      "outputs": []
    },
    {
      "cell_type": "code",
      "source": [
        "correlations"
      ],
      "metadata": {
        "id": "zcQT3JTKFGzR"
      },
      "execution_count": null,
      "outputs": []
    },
    {
      "cell_type": "code",
      "source": [
        "selected_features = correlations[(correlations >= 0.4) | (correlations <= -0.4)] # selecting features with correlations greater than or\n",
        "                                                                                 # equal to 0.4 and less than or equal to -0.4\n"
      ],
      "metadata": {
        "id": "OxsoaCpkC445"
      },
      "execution_count": null,
      "outputs": []
    },
    {
      "cell_type": "code",
      "source": [
        "selected_features.sort_values(ascending=False) # sorting the selected features in ascending order"
      ],
      "metadata": {
        "id": "cg9jUpOxF4tl"
      },
      "execution_count": null,
      "outputs": []
    },
    {
      "cell_type": "code",
      "source": [
        "feature_subset = X_df[selected_features.index]\n",
        "X = feature_subset # putting the selected features in X"
      ],
      "metadata": {
        "id": "8WFI5sB1GBj4"
      },
      "execution_count": null,
      "outputs": []
    },
    {
      "cell_type": "code",
      "source": [
        "X_df"
      ],
      "metadata": {
        "id": "zS4iaIXSRXZU"
      },
      "execution_count": null,
      "outputs": []
    },
    {
      "cell_type": "code",
      "source": [
        "X.info()"
      ],
      "metadata": {
        "id": "scdiw_bQMiGJ"
      },
      "execution_count": null,
      "outputs": []
    },
    {
      "cell_type": "markdown",
      "source": [
        "## **Scaling the independent variables**"
      ],
      "metadata": {
        "id": "RyqUPjU-LH61"
      }
    },
    {
      "cell_type": "code",
      "source": [
        "from sklearn.preprocessing import StandardScaler"
      ],
      "metadata": {
        "id": "rc3TyOp3JBo0"
      },
      "execution_count": null,
      "outputs": []
    },
    {
      "cell_type": "code",
      "source": [
        "sc = StandardScaler()"
      ],
      "metadata": {
        "id": "rQPYRKTnJBmA"
      },
      "execution_count": null,
      "outputs": []
    },
    {
      "cell_type": "code",
      "source": [
        "scaled=sc.fit_transform(X)"
      ],
      "metadata": {
        "id": "OEBLYh6_JBjY"
      },
      "execution_count": null,
      "outputs": []
    },
    {
      "cell_type": "code",
      "source": [
        "scaled.tolist()"
      ],
      "metadata": {
        "id": "-9jsdDCAJBgu"
      },
      "execution_count": null,
      "outputs": []
    },
    {
      "cell_type": "code",
      "source": [
        "from sklearn.model_selection import train_test_split\n",
        "Xtrain,Xtest,Ytrain,Ytest=train_test_split(X,y,test_size=0.2,random_state=42)\n",
        "Xtrain.shape"
      ],
      "metadata": {
        "id": "suq8GpPFJBej",
        "colab": {
          "base_uri": "https://localhost:8080/"
        },
        "outputId": "7f8be5bd-a241-416b-ca99-709944986deb"
      },
      "execution_count": null,
      "outputs": [
        {
          "output_type": "execute_result",
          "data": {
            "text/plain": [
              "(15155, 24)"
            ]
          },
          "metadata": {},
          "execution_count": 44
        }
      ]
    },
    {
      "cell_type": "markdown",
      "source": [
        "## **Question 3**"
      ],
      "metadata": {
        "id": "LPzPum4jc2az"
      }
    },
    {
      "cell_type": "markdown",
      "source": [
        "# **Cross Validation for the Random Forest Regressor**"
      ],
      "metadata": {
        "id": "bYWWDZo_-kxl"
      }
    },
    {
      "cell_type": "code",
      "source": [
        "from sklearn.model_selection import KFold\n",
        "from sklearn.model_selection import GridSearchCV\n",
        "from sklearn.ensemble import RandomForestRegressor\n",
        "\n",
        "cv = KFold(n_splits=3)\n",
        "\n",
        "RFM_PARAMETERS = {\"max_depth\":[2,5, 6, None],\n",
        "              \"max_features\":[1.0,0.3,15],\n",
        "              \"min_samples_split\": [2, 5, 10],\n",
        "              \"n_estimators\":[100,500,300]}\n",
        "\n",
        "full = RandomForestRegressor(n_jobs= -1)\n",
        "RFM_model_gs = GridSearchCV (full, param_grid= RFM_PARAMETERS, cv=cv, scoring= \"accuracy\")\n",
        "RFM_model_gs.fit ( Xtrain, Ytrain)\n",
        "RFMy_pred= RFM_model_gs.predict(Xtest)"
      ],
      "metadata": {
        "id": "KSQyEbJQCQwB"
      },
      "execution_count": null,
      "outputs": []
    },
    {
      "cell_type": "code",
      "source": [
        "RFMy_pred"
      ],
      "metadata": {
        "colab": {
          "base_uri": "https://localhost:8080/"
        },
        "id": "0rylr8Laf4O7",
        "outputId": "efd66a7a-c92f-43ab-c437-3c351c53983f"
      },
      "execution_count": 75,
      "outputs": [
        {
          "output_type": "execute_result",
          "data": {
            "text/plain": [
              "array([64.05880348, 64.05880348, 57.01865452, ..., 70.37413692,\n",
              "       63.37049028, 64.05880348])"
            ]
          },
          "metadata": {},
          "execution_count": 75
        }
      ]
    },
    {
      "cell_type": "markdown",
      "source": [
        "## **Cross Validation for the XGBoost Regressor**"
      ],
      "metadata": {
        "id": "NKllOwuj-p0b"
      }
    },
    {
      "cell_type": "code",
      "source": [
        "import xgboost as xgb\n",
        "from sklearn.model_selection import GridSearchCV\n",
        "cv = KFold(n_splits=3)\n",
        "PARAMETERS = {\"subsample\":[0.5, 0.75, 1],\n",
        "              \"max_depth\":[2,5, 6, 12],\n",
        "              \"learning_rate\":[0.3, 0.1, 0.03],\n",
        "              \"n_estimators\":[100,500,1000]}\n",
        "\n",
        "XGBModel = xgb.XGBRegressor(n_jobs= -1)\n",
        "\n",
        "XGBmodel_gs = GridSearchCV(XGBModel, param_grid=PARAMETERS, cv=cv, scoring='neg_mean_squared_error')\n",
        "XGBmodel_gs.fit(Xtrain,Ytrain)\n",
        "XGBy_pred= XGBmodel_gs.predict(Xtest)"
      ],
      "metadata": {
        "id": "5QfFQkMG-asP"
      },
      "execution_count": 73,
      "outputs": []
    },
    {
      "cell_type": "markdown",
      "source": [
        "## **Cross Validation for the Gradient Boosting Regressor**"
      ],
      "metadata": {
        "id": "1niJ1ZHD-wGJ"
      }
    },
    {
      "cell_type": "code",
      "source": [
        "from sklearn.ensemble import GradientBoostingRegressor\n",
        "from sklearn.model_selection import GridSearchCV\n",
        "import numpy as np\n",
        "\n",
        "\n",
        "model = GradientBoostingRegressor()\n",
        "\n",
        "param_grid = {\n",
        "    'n_estimators': [100, 200, 300],\n",
        "    'learning_rate': [0.01, 0.1, 0.2],\n",
        "    'max_depth': [3, 4, 5]}\n",
        "\n",
        "GBgrid_search = GridSearchCV(model, param_grid, cv=5, scoring='neg_mean_squared_error', n_jobs=-1)\n",
        "GBgrid_search.fit(Xtrain, Ytrain)\n",
        "GBy_pred = GBgrid_search.predict(Xtest)\n"
      ],
      "metadata": {
        "id": "bTtp1Flr-d-e"
      },
      "execution_count": null,
      "outputs": []
    },
    {
      "cell_type": "markdown",
      "source": [
        "## **Question 4**"
      ],
      "metadata": {
        "id": "Lofdq5sBcyXP"
      }
    },
    {
      "cell_type": "code",
      "source": [
        "from sklearn.metrics import mean_absolute_error"
      ],
      "metadata": {
        "id": "cwCFX4yfuILm"
      },
      "execution_count": null,
      "outputs": []
    },
    {
      "cell_type": "markdown",
      "source": [
        "# Calculating the MAE of the RandomForestRegressor"
      ],
      "metadata": {
        "id": "7C2KDVlyu2hw"
      }
    },
    {
      "cell_type": "code",
      "source": [
        "mae_RFM = mean_absolute_error(Ytest, RFMy_pred )\n",
        "print(f\"Mean Absolute Error (MAE): {mae_RFM}\")\n"
      ],
      "metadata": {
        "colab": {
          "base_uri": "https://localhost:8080/"
        },
        "id": "CzbdQU5KuM5S",
        "outputId": "0fe7f0eb-bdab-40f8-c4c1-4eeda287e17c"
      },
      "execution_count": null,
      "outputs": [
        {
          "output_type": "stream",
          "name": "stdout",
          "text": [
            "Mean Absolute Error (MAE): 2.506425477795331\n"
          ]
        }
      ]
    },
    {
      "cell_type": "markdown",
      "source": [
        "# Calculating the MAE of the XGBoostRegressor"
      ],
      "metadata": {
        "id": "f6n82baXu_HP"
      }
    },
    {
      "cell_type": "code",
      "source": [
        "mae_XGB= mean_absolute_error(Ytest, XGBy_pred )\n",
        "print(f\"Mean Absolute Error (MAE): {mae_XGB}\")\n"
      ],
      "metadata": {
        "id": "_ddqCJmBuMsk",
        "colab": {
          "base_uri": "https://localhost:8080/"
        },
        "outputId": "e1634b7d-0854-457b-f1ff-9e52a2788c57"
      },
      "execution_count": 74,
      "outputs": [
        {
          "output_type": "stream",
          "name": "stdout",
          "text": [
            "Mean Absolute Error (MAE): 0.27057743651409455\n"
          ]
        }
      ]
    },
    {
      "cell_type": "markdown",
      "source": [
        "# Calculating the MAE of the GradientBoostingRegressor"
      ],
      "metadata": {
        "id": "zMcEINsmvFu4"
      }
    },
    {
      "cell_type": "code",
      "source": [
        "mae_GB= mean_absolute_error(Ytest, GBy_pred )\n",
        "print(f\"Mean Absolute Error (MAE): {mae_GB}\")\n",
        "\n"
      ],
      "metadata": {
        "colab": {
          "base_uri": "https://localhost:8080/"
        },
        "id": "1rHavAL9uRyc",
        "outputId": "8f1d239c-285f-4d6f-e778-6d68050407fc"
      },
      "execution_count": null,
      "outputs": [
        {
          "output_type": "stream",
          "name": "stdout",
          "text": [
            "Mean Absolute Error (MAE): 0.356579606589903\n"
          ]
        }
      ]
    },
    {
      "cell_type": "markdown",
      "source": [
        "## **Question 5**"
      ],
      "metadata": {
        "id": "lOUEhCllQwB3"
      }
    },
    {
      "cell_type": "code",
      "source": [
        "from pandas.core.arrays import categorical\n",
        "numeric_TestVariables = df.select_dtypes(include=['int64','float64'])\n",
        "categorical_TestVariables = df.select_dtypes(include=['object'])"
      ],
      "metadata": {
        "id": "DY52QUWdP9NF"
      },
      "execution_count": null,
      "outputs": []
    },
    {
      "cell_type": "markdown",
      "source": [
        "## **Numeric** **Imputation for the 2022 dataset variables using KNN Imputation**"
      ],
      "metadata": {
        "id": "wGWU19LvRQfA"
      }
    },
    {
      "cell_type": "code",
      "source": [
        "numeric_TestVariables_imputed = knn_imputer.fit_transform(numeric_TestVariables)"
      ],
      "metadata": {
        "id": "tb6UcjuKQZkZ"
      },
      "execution_count": null,
      "outputs": []
    },
    {
      "cell_type": "code",
      "source": [
        "numeric_TestVariables_imputed_df = pd.DataFrame(numeric_TestVariables_imputed,columns=numeric_TestVariables.columns)"
      ],
      "metadata": {
        "id": "OM8qZCv1Quz0"
      },
      "execution_count": null,
      "outputs": []
    },
    {
      "cell_type": "markdown",
      "source": [
        "## **Imputation for the Categorical Variables of the 2022 dataset**"
      ],
      "metadata": {
        "id": "gD9DYDWrRN15"
      }
    },
    {
      "cell_type": "code",
      "source": [
        "categorical_TestVariables_imputed = categorical_TestVariables.ffill()"
      ],
      "metadata": {
        "id": "gLkbx9-HRM-S"
      },
      "execution_count": null,
      "outputs": []
    },
    {
      "cell_type": "code",
      "source": [
        "categorical_TestVariables_imputed_df = pd.DataFrame(categorical_TestVariables_imputed, columns =categorical_TestVariables.columns)"
      ],
      "metadata": {
        "id": "zNjEV3lWRrRG"
      },
      "execution_count": null,
      "outputs": []
    },
    {
      "cell_type": "markdown",
      "source": [
        "## **Encoding the Categorical variables of the 2022 dataset**"
      ],
      "metadata": {
        "id": "l_Ej76KHR3Cy"
      }
    },
    {
      "cell_type": "code",
      "source": [
        "categorical_TestVariables_df_encoded = pd.get_dummies(categorical_TestVariables_imputed_df, prefix='categorical')"
      ],
      "metadata": {
        "id": "kS5HSP0-R2Gs"
      },
      "execution_count": null,
      "outputs": []
    },
    {
      "cell_type": "code",
      "source": [
        "new_df2 = pd.concat([numeric_TestVariables_imputed_df, categorical_TestVariables_df_encoded], axis=1)"
      ],
      "metadata": {
        "id": "Gf71wKyeSpXM"
      },
      "execution_count": null,
      "outputs": []
    },
    {
      "cell_type": "markdown",
      "source": [
        "## **Separating the independent and dependent variables in the 2022 dataset**"
      ],
      "metadata": {
        "id": "H5Yb4TVDZIZG"
      }
    },
    {
      "cell_type": "code",
      "source": [
        "y2 = new_df2['overall']"
      ],
      "metadata": {
        "id": "UABOL6HuCnbV"
      },
      "execution_count": null,
      "outputs": []
    },
    {
      "cell_type": "code",
      "source": [
        "new_df2"
      ],
      "metadata": {
        "id": "2RlX17DHT2Cd"
      },
      "execution_count": null,
      "outputs": []
    },
    {
      "cell_type": "code",
      "source": [
        "testData =new_df2[selected_features.index] # Extracting features with high correlation from the 2022 dataset based on observations in the 2021 dataset.\n",
        "#Extracting the corresponding features from the 2022 dataset in the 2021 dataset and putting them in a dataframe\n"
      ],
      "metadata": {
        "id": "Mxo8psCDTAmR"
      },
      "execution_count": null,
      "outputs": []
    },
    {
      "cell_type": "code",
      "source": [
        "testData.info()"
      ],
      "metadata": {
        "id": "vfThRAeET6io"
      },
      "execution_count": null,
      "outputs": []
    },
    {
      "cell_type": "markdown",
      "source": [
        "## **Scaling the independent variables of the 2022 dataset**"
      ],
      "metadata": {
        "id": "NOS0uKC_aLHc"
      }
    },
    {
      "cell_type": "code",
      "source": [
        "scaled2=sc.fit_transform(testData)"
      ],
      "metadata": {
        "id": "wNobg3SdAgEj"
      },
      "execution_count": null,
      "outputs": []
    },
    {
      "cell_type": "markdown",
      "source": [
        "## **Testing the choosen model using the choosen columns from the 2022 dataset**"
      ],
      "metadata": {
        "id": "tclGsBGdaUtK"
      }
    },
    {
      "cell_type": "code",
      "source": [
        "XGBy_pred2= XGBmodel_gs.predict(testData)"
      ],
      "metadata": {
        "id": "J6bgB9LdB99D"
      },
      "execution_count": null,
      "outputs": []
    },
    {
      "cell_type": "markdown",
      "source": [
        "## **Calulating the Mean Absolute Error**"
      ],
      "metadata": {
        "id": "VIHS3GJmcdGj"
      }
    },
    {
      "cell_type": "code",
      "source": [
        "mae_XGB= mean_absolute_error(y2, XGBy_pred2 )\n",
        "print(f\"Mean Absolute Error (MAE): {mae_XGB}\")\n"
      ],
      "metadata": {
        "colab": {
          "base_uri": "https://localhost:8080/"
        },
        "id": "k74OAOrygKlO",
        "outputId": "d2ff21d5-5b2e-44a5-c68d-3174ef67dc8f"
      },
      "execution_count": 77,
      "outputs": [
        {
          "output_type": "stream",
          "name": "stdout",
          "text": [
            "Mean Absolute Error (MAE): 0.05959793804465113\n"
          ]
        }
      ]
    },
    {
      "cell_type": "markdown",
      "source": [
        "# **Saving the model in a pickle file**"
      ],
      "metadata": {
        "id": "0dyqjD63cl9I"
      }
    },
    {
      "cell_type": "code",
      "source": [
        "import pickle\n",
        "XGBmodel_gs_model = XGBmodel_gs\n",
        "\n",
        "# Specify the filename for the pickle file\n",
        "pickle_filename = 'XGBmodel_gs_model.pkl'\n",
        "\n",
        "# Save the model to a pickle file\n",
        "with open(pickle_filename, 'wb') as file:\n",
        "    pickle.dump(XGBmodel_gs_model, file)"
      ],
      "metadata": {
        "id": "oNZKw78cB91D"
      },
      "execution_count": 78,
      "outputs": []
    },
    {
      "cell_type": "code",
      "source": [],
      "metadata": {
        "id": "hSxasVgeB9yf"
      },
      "execution_count": null,
      "outputs": []
    },
    {
      "cell_type": "code",
      "source": [],
      "metadata": {
        "id": "ai-WpRChB9wZ"
      },
      "execution_count": null,
      "outputs": []
    },
    {
      "cell_type": "code",
      "source": [],
      "metadata": {
        "id": "Nvl0r1OwB9tc"
      },
      "execution_count": null,
      "outputs": []
    }
  ]
}